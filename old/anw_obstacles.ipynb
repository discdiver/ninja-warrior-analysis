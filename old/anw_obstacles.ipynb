{
 "cells": [
  {
   "cell_type": "markdown",
   "metadata": {},
   "source": [
    "# American Ninja Warrior Obstacle info\n",
    "\n",
    "## By: Jeff Hale"
   ]
  },
  {
   "cell_type": "markdown",
   "metadata": {},
   "source": [
    "## Goal\n",
    "\n",
    "### Predict which Ninja Warrior obstacles will be present. \n",
    "\n",
    "We'll explore the data and use a few types of machine learning algorithms. "
   ]
  },
  {
   "cell_type": "markdown",
   "metadata": {},
   "source": [
    "## Background\n",
    "[American Ninja Warrior](https://www.nbc.com/american-ninja-warrior) is a televised competition where contestents try to complete a serious of obstacles as quickly as possible, without falling. My kids love watching it and somehow it has been nominated for 3 Emmy's. \n",
    "\n",
    "Ten-time ninja warrior Matt Laessig also happens to lead [data.world](https://data.world), which offers a platform with data sets and an interface for data analysis. One of the data sets contains each of the obstacles in Ninja Warrior by year. \n",
    "\n",
    "This isn't a huge dataset, and machine learning might not provide value here, but let's see if it can."
   ]
  },
  {
   "cell_type": "markdown",
   "metadata": {},
   "source": [
    "## Set-up\n",
    "Load the necessary libraries.\n",
    "Configure the Jupyter Notebook settings.\n",
    "Load the data into a pandas DataFrame"
   ]
  },
  {
   "cell_type": "code",
   "execution_count": 1,
   "metadata": {},
   "outputs": [],
   "source": [
    "import numpy as np \n",
    "import pandas as pd \n",
    "from sklearn import preprocessing\n",
    "\n",
    "import matplotlib.pyplot as plt\n",
    "import seaborn as sns\n",
    "\n",
    "np.random.seed(34)\n",
    "\n",
    "%reload_ext autoreload\n",
    "%autoreload 2\n",
    "%matplotlib inline"
   ]
  },
  {
   "cell_type": "code",
   "execution_count": 2,
   "metadata": {},
   "outputs": [
    {
     "name": "stdout",
     "output_type": "stream",
     "text": [
      "ANW.ipynb \u001b[34mdata\u001b[m\u001b[m      \u001b[34mimages\u001b[m\u001b[m\n"
     ]
    }
   ],
   "source": [
    "!ls"
   ]
  },
  {
   "cell_type": "code",
   "execution_count": 3,
   "metadata": {},
   "outputs": [],
   "source": [
    "# !pip list"
   ]
  },
  {
   "cell_type": "code",
   "execution_count": 4,
   "metadata": {},
   "outputs": [],
   "source": [
    "orig_df = pd.read_excel('data/American Ninja Warrior Obstacle History.xlsx')"
   ]
  },
  {
   "cell_type": "markdown",
   "metadata": {},
   "source": [
    "## Exploratory Data Analysis (EDA)"
   ]
  },
  {
   "cell_type": "markdown",
   "metadata": {},
   "source": [
    "Let's take a peak"
   ]
  },
  {
   "cell_type": "code",
   "execution_count": 5,
   "metadata": {},
   "outputs": [
    {
     "data": {
      "text/html": [
       "<div>\n",
       "<style scoped>\n",
       "    .dataframe tbody tr th:only-of-type {\n",
       "        vertical-align: middle;\n",
       "    }\n",
       "\n",
       "    .dataframe tbody tr th {\n",
       "        vertical-align: top;\n",
       "    }\n",
       "\n",
       "    .dataframe thead th {\n",
       "        text-align: right;\n",
       "    }\n",
       "</style>\n",
       "<table border=\"1\" class=\"dataframe\">\n",
       "  <thead>\n",
       "    <tr style=\"text-align: right;\">\n",
       "      <th></th>\n",
       "      <th>Season</th>\n",
       "      <th>Location</th>\n",
       "      <th>Round/Stage</th>\n",
       "      <th>Obstacle Name</th>\n",
       "      <th>Obstacle Order</th>\n",
       "    </tr>\n",
       "  </thead>\n",
       "  <tbody>\n",
       "    <tr>\n",
       "      <th>0</th>\n",
       "      <td>9</td>\n",
       "      <td>Los Angeles</td>\n",
       "      <td>Qualifying (Regional/City)</td>\n",
       "      <td>Floating Steps</td>\n",
       "      <td>1</td>\n",
       "    </tr>\n",
       "    <tr>\n",
       "      <th>1</th>\n",
       "      <td>9</td>\n",
       "      <td>Los Angeles</td>\n",
       "      <td>Qualifying (Regional/City)</td>\n",
       "      <td>Cannonball Drop</td>\n",
       "      <td>2</td>\n",
       "    </tr>\n",
       "    <tr>\n",
       "      <th>2</th>\n",
       "      <td>9</td>\n",
       "      <td>Los Angeles</td>\n",
       "      <td>Qualifying (Regional/City)</td>\n",
       "      <td>Fly Wheels</td>\n",
       "      <td>3</td>\n",
       "    </tr>\n",
       "    <tr>\n",
       "      <th>3</th>\n",
       "      <td>9</td>\n",
       "      <td>Los Angeles</td>\n",
       "      <td>Qualifying (Regional/City)</td>\n",
       "      <td>Block Run</td>\n",
       "      <td>4</td>\n",
       "    </tr>\n",
       "    <tr>\n",
       "      <th>4</th>\n",
       "      <td>9</td>\n",
       "      <td>Los Angeles</td>\n",
       "      <td>Qualifying (Regional/City)</td>\n",
       "      <td>Battering Ram</td>\n",
       "      <td>5</td>\n",
       "    </tr>\n",
       "  </tbody>\n",
       "</table>\n",
       "</div>"
      ],
      "text/plain": [
       "   Season     Location                 Round/Stage    Obstacle Name  \\\n",
       "0       9  Los Angeles  Qualifying (Regional/City)   Floating Steps   \n",
       "1       9  Los Angeles  Qualifying (Regional/City)  Cannonball Drop   \n",
       "2       9  Los Angeles  Qualifying (Regional/City)       Fly Wheels   \n",
       "3       9  Los Angeles  Qualifying (Regional/City)        Block Run   \n",
       "4       9  Los Angeles  Qualifying (Regional/City)    Battering Ram   \n",
       "\n",
       "   Obstacle Order  \n",
       "0               1  \n",
       "1               2  \n",
       "2               3  \n",
       "3               4  \n",
       "4               5  "
      ]
     },
     "execution_count": 5,
     "metadata": {},
     "output_type": "execute_result"
    }
   ],
   "source": [
    "orig_df.head()"
   ]
  },
  {
   "cell_type": "code",
   "execution_count": 6,
   "metadata": {},
   "outputs": [
    {
     "data": {
      "text/html": [
       "<div>\n",
       "<style scoped>\n",
       "    .dataframe tbody tr th:only-of-type {\n",
       "        vertical-align: middle;\n",
       "    }\n",
       "\n",
       "    .dataframe tbody tr th {\n",
       "        vertical-align: top;\n",
       "    }\n",
       "\n",
       "    .dataframe thead th {\n",
       "        text-align: right;\n",
       "    }\n",
       "</style>\n",
       "<table border=\"1\" class=\"dataframe\">\n",
       "  <thead>\n",
       "    <tr style=\"text-align: right;\">\n",
       "      <th></th>\n",
       "      <th>Season</th>\n",
       "      <th>Location</th>\n",
       "      <th>Round/Stage</th>\n",
       "      <th>Obstacle Name</th>\n",
       "      <th>Obstacle Order</th>\n",
       "    </tr>\n",
       "  </thead>\n",
       "  <tbody>\n",
       "    <tr>\n",
       "      <th>764</th>\n",
       "      <td>1</td>\n",
       "      <td>Sasuke 23 (Japan)</td>\n",
       "      <td>National Finals - Stage 3</td>\n",
       "      <td>Hang Climb</td>\n",
       "      <td>6</td>\n",
       "    </tr>\n",
       "    <tr>\n",
       "      <th>765</th>\n",
       "      <td>1</td>\n",
       "      <td>Sasuke 23 (Japan)</td>\n",
       "      <td>National Finals - Stage 3</td>\n",
       "      <td>Spider Flip</td>\n",
       "      <td>7</td>\n",
       "    </tr>\n",
       "    <tr>\n",
       "      <th>766</th>\n",
       "      <td>1</td>\n",
       "      <td>Sasuke 23 (Japan)</td>\n",
       "      <td>National Finals - Stage 3</td>\n",
       "      <td>Gliding Ring</td>\n",
       "      <td>8</td>\n",
       "    </tr>\n",
       "    <tr>\n",
       "      <th>767</th>\n",
       "      <td>1</td>\n",
       "      <td>Sasuke 23 (Japan)</td>\n",
       "      <td>National Finals - Stage 4</td>\n",
       "      <td>Heavenly Ladder</td>\n",
       "      <td>1</td>\n",
       "    </tr>\n",
       "    <tr>\n",
       "      <th>768</th>\n",
       "      <td>1</td>\n",
       "      <td>Sasuke 23 (Japan)</td>\n",
       "      <td>National Finals - Stage 4</td>\n",
       "      <td>G-Rope</td>\n",
       "      <td>2</td>\n",
       "    </tr>\n",
       "  </tbody>\n",
       "</table>\n",
       "</div>"
      ],
      "text/plain": [
       "     Season           Location                Round/Stage    Obstacle Name  \\\n",
       "764       1  Sasuke 23 (Japan)  National Finals - Stage 3       Hang Climb   \n",
       "765       1  Sasuke 23 (Japan)  National Finals - Stage 3      Spider Flip   \n",
       "766       1  Sasuke 23 (Japan)  National Finals - Stage 3     Gliding Ring   \n",
       "767       1  Sasuke 23 (Japan)  National Finals - Stage 4  Heavenly Ladder   \n",
       "768       1  Sasuke 23 (Japan)  National Finals - Stage 4           G-Rope   \n",
       "\n",
       "     Obstacle Order  \n",
       "764               6  \n",
       "765               7  \n",
       "766               8  \n",
       "767               1  \n",
       "768               2  "
      ]
     },
     "execution_count": 6,
     "metadata": {},
     "output_type": "execute_result"
    }
   ],
   "source": [
    "orig_df.tail()"
   ]
  },
  {
   "cell_type": "markdown",
   "metadata": {},
   "source": [
    "This dataset does include data from when the show was in Japan. Let's make a note that grouping by country location could be interesting .\n",
    "\n",
    "The *Round/Stage* column looks like it might be making this dataframe less than *tidy*. Tidy data is an important concept you can read up on [here](http://vita.had.co.nz/papers/tidy-data.html). We'll probably want to split that column in two."
   ]
  },
  {
   "cell_type": "markdown",
   "metadata": {},
   "source": [
    "### Let's get some basic descriptive information."
   ]
  },
  {
   "cell_type": "code",
   "execution_count": 7,
   "metadata": {},
   "outputs": [
    {
     "name": "stdout",
     "output_type": "stream",
     "text": [
      "<class 'pandas.core.frame.DataFrame'>\n",
      "RangeIndex: 769 entries, 0 to 768\n",
      "Data columns (total 5 columns):\n",
      "Season            769 non-null int64\n",
      "Location          769 non-null object\n",
      "Round/Stage       769 non-null object\n",
      "Obstacle Name     769 non-null object\n",
      "Obstacle Order    769 non-null int64\n",
      "dtypes: int64(2), object(3)\n",
      "memory usage: 30.1+ KB\n"
     ]
    }
   ],
   "source": [
    "df = orig_df\n",
    "df.info()"
   ]
  },
  {
   "cell_type": "markdown",
   "metadata": {},
   "source": [
    "### Initial Impressions\n",
    "We have five variables and records from 769 competitions.\n",
    "\n",
    "Looks like no missing data, but we need to check by looking at the values.\n",
    "\n",
    "First let's make these column names a little shorter and save some keystrokes."
   ]
  },
  {
   "cell_type": "code",
   "execution_count": 8,
   "metadata": {},
   "outputs": [
    {
     "data": {
      "text/html": [
       "<div>\n",
       "<style scoped>\n",
       "    .dataframe tbody tr th:only-of-type {\n",
       "        vertical-align: middle;\n",
       "    }\n",
       "\n",
       "    .dataframe tbody tr th {\n",
       "        vertical-align: top;\n",
       "    }\n",
       "\n",
       "    .dataframe thead th {\n",
       "        text-align: right;\n",
       "    }\n",
       "</style>\n",
       "<table border=\"1\" class=\"dataframe\">\n",
       "  <thead>\n",
       "    <tr style=\"text-align: right;\">\n",
       "      <th></th>\n",
       "      <th>season</th>\n",
       "      <th>location</th>\n",
       "      <th>round_stage</th>\n",
       "      <th>obstacle</th>\n",
       "      <th>obstacle_order</th>\n",
       "    </tr>\n",
       "  </thead>\n",
       "  <tbody>\n",
       "    <tr>\n",
       "      <th>0</th>\n",
       "      <td>9</td>\n",
       "      <td>Los Angeles</td>\n",
       "      <td>Qualifying (Regional/City)</td>\n",
       "      <td>Floating Steps</td>\n",
       "      <td>1</td>\n",
       "    </tr>\n",
       "    <tr>\n",
       "      <th>1</th>\n",
       "      <td>9</td>\n",
       "      <td>Los Angeles</td>\n",
       "      <td>Qualifying (Regional/City)</td>\n",
       "      <td>Cannonball Drop</td>\n",
       "      <td>2</td>\n",
       "    </tr>\n",
       "    <tr>\n",
       "      <th>2</th>\n",
       "      <td>9</td>\n",
       "      <td>Los Angeles</td>\n",
       "      <td>Qualifying (Regional/City)</td>\n",
       "      <td>Fly Wheels</td>\n",
       "      <td>3</td>\n",
       "    </tr>\n",
       "    <tr>\n",
       "      <th>3</th>\n",
       "      <td>9</td>\n",
       "      <td>Los Angeles</td>\n",
       "      <td>Qualifying (Regional/City)</td>\n",
       "      <td>Block Run</td>\n",
       "      <td>4</td>\n",
       "    </tr>\n",
       "    <tr>\n",
       "      <th>4</th>\n",
       "      <td>9</td>\n",
       "      <td>Los Angeles</td>\n",
       "      <td>Qualifying (Regional/City)</td>\n",
       "      <td>Battering Ram</td>\n",
       "      <td>5</td>\n",
       "    </tr>\n",
       "  </tbody>\n",
       "</table>\n",
       "</div>"
      ],
      "text/plain": [
       "   season     location                 round_stage         obstacle  \\\n",
       "0       9  Los Angeles  Qualifying (Regional/City)   Floating Steps   \n",
       "1       9  Los Angeles  Qualifying (Regional/City)  Cannonball Drop   \n",
       "2       9  Los Angeles  Qualifying (Regional/City)       Fly Wheels   \n",
       "3       9  Los Angeles  Qualifying (Regional/City)        Block Run   \n",
       "4       9  Los Angeles  Qualifying (Regional/City)    Battering Ram   \n",
       "\n",
       "   obstacle_order  \n",
       "0               1  \n",
       "1               2  \n",
       "2               3  \n",
       "3               4  \n",
       "4               5  "
      ]
     },
     "execution_count": 8,
     "metadata": {},
     "output_type": "execute_result"
    }
   ],
   "source": [
    "df.columns = ['season', 'location', 'round_stage', 'obstacle', 'obstacle_order' ]\n",
    "df.head()"
   ]
  },
  {
   "cell_type": "markdown",
   "metadata": {},
   "source": [
    "Let's see how many unique obstacles are in the dataset. "
   ]
  },
  {
   "cell_type": "code",
   "execution_count": 9,
   "metadata": {},
   "outputs": [
    {
     "data": {
      "text/plain": [
       "Warped Wall                79\n",
       "Salmon Ladder              35\n",
       "Quintuple Steps            32\n",
       "Floating Steps             22\n",
       "Log Grip                   21\n",
       "Jump Hang                  18\n",
       "Quad Steps                 16\n",
       "Jumping Spider             13\n",
       "Wall Lift                  11\n",
       "Invisible Ladder           11\n",
       "Rolling Log                11\n",
       "Bridge of Blades           10\n",
       "Spider Climb                9\n",
       "Cargo Climb                 9\n",
       "Rope Ladder                 9\n",
       "Spinning Log                8\n",
       "Rope Climb                  8\n",
       "Flying Bar                  8\n",
       "Jumping Bars                8\n",
       "Ultimate Cliffhanger        8\n",
       "Unstable Bridge             8\n",
       "Devil Steps                 7\n",
       "Double Salmon Ladder        6\n",
       "Elevator Climb              6\n",
       "Hang Climb                  6\n",
       "Floating Boards             6\n",
       "Tarzan Rope                 6\n",
       "Spinning Bridge             6\n",
       "Paddle Boards               6\n",
       "Metal Spin                  6\n",
       "                           ..\n",
       "Minefield                   1\n",
       "Helix Hang                  1\n",
       "Peg Cloud                   1\n",
       "Ledge Jump                  1\n",
       "Giant Cubes                 1\n",
       "Gliding Ring                1\n",
       "Descending Lamp Grasper     1\n",
       "Chain Seesaw                1\n",
       "Rope Glider                 1\n",
       "Hazard Swing                1\n",
       "Giant Log Grip              1\n",
       "Rope Maze                   1\n",
       "Swing Surfer                1\n",
       "Cannonball Incline          1\n",
       "Cliffhanger                 1\n",
       "Rolling Steel               1\n",
       "Shin Cliffhanger            1\n",
       "Wingnut Alley               1\n",
       "Stick Slider                1\n",
       "Roulette Row                1\n",
       "Heavenly Ladder             1\n",
       "Globe Grasper               1\n",
       "Circle Slider               1\n",
       "Jumping Rings               1\n",
       "Window Hang                 1\n",
       "Down Up Salmon Ladder       1\n",
       "Spinball Wizard             1\n",
       "Hang Slider                 1\n",
       "Ninjago Roll                1\n",
       "Triple Swing                1\n",
       "Name: obstacle, Length: 196, dtype: int64"
      ]
     },
     "execution_count": 9,
     "metadata": {},
     "output_type": "execute_result"
    }
   ],
   "source": [
    "df['obstacle'].value_counts()"
   ]
  },
  {
   "cell_type": "markdown",
   "metadata": {},
   "source": [
    "Interesting. There are 196 different obstacles in the dataset. The Warped Wall is by far the most common obstacle. \n",
    "\n",
    "Thoughts:\n",
    "\n",
    "I wonder what the age breakdown looks like.\n",
    "\n",
    "I wonder if some of these are always in the championship events.\n",
    "\n",
    "This is count data. See article I wrote on types of data here. Looks like we might have a Poisson distribution.\n",
    "\n"
   ]
  },
  {
   "cell_type": "markdown",
   "metadata": {},
   "source": [
    "Let's look at a frequency of the counts."
   ]
  },
  {
   "cell_type": "markdown",
   "metadata": {},
   "source": [
    "Let's look at a histogram of obstacles that have been in at least three competitions."
   ]
  },
  {
   "cell_type": "code",
   "execution_count": null,
   "metadata": {},
   "outputs": [],
   "source": [
    "\n"
   ]
  }
 ],
 "metadata": {
  "kernelspec": {
   "display_name": "Python 3",
   "language": "python",
   "name": "python3"
  },
  "language_info": {
   "codemirror_mode": {
    "name": "ipython",
    "version": 3
   },
   "file_extension": ".py",
   "mimetype": "text/x-python",
   "name": "python",
   "nbconvert_exporter": "python",
   "pygments_lexer": "ipython3",
   "version": "3.6.6"
  }
 },
 "nbformat": 4,
 "nbformat_minor": 2
}
